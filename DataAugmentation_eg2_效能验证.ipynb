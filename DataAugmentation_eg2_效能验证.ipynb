{
  "nbformat": 4,
  "nbformat_minor": 0,
  "metadata": {
    "colab": {
      "name": "DataAugmentation_eg2_效能验证.ipynb",
      "version": "0.3.2",
      "provenance": [],
      "collapsed_sections": []
    },
    "kernelspec": {
      "name": "python3",
      "display_name": "Python 3"
    },
    "accelerator": "GPU"
  },
  "cells": [
    {
      "cell_type": "markdown",
      "metadata": {
        "id": "view-in-github",
        "colab_type": "text"
      },
      "source": [
        "[View in Colaboratory](https://colab.research.google.com/github/jsxyhelu/DateSets/blob/master/DataAugmentation_eg2_%E6%95%88%E8%83%BD%E9%AA%8C%E8%AF%81.ipynb)"
      ]
    },
    {
      "metadata": {
        "id": "ABxMy4ObEXUW",
        "colab_type": "code",
        "colab": {
          "base_uri": "https://localhost:8080/",
          "height": 886
        },
        "outputId": "0728aced-17a5-4cbb-e3cb-2ea59c85ab73"
      },
      "cell_type": "code",
      "source": [
        "from keras.datasets import cifar10\n",
        "from keras.layers.core import Dense, Flatten, Activation, Dropout\n",
        "from keras.layers.convolutional import Conv2D\n",
        "from keras.layers.pooling import MaxPooling2D\n",
        "from keras.layers.normalization import BatchNormalization\n",
        "from keras.models import Sequential\n",
        "from keras.utils import np_utils\n",
        "from keras.preprocessing.image import ImageDataGenerator\n",
        "from keras.preprocessing import image\n",
        "import matplotlib.pyplot as plt\n",
        "import numpy as np\n",
        "from keras.utils import generic_utils\n",
        "\n",
        "(x_train, y_train),(x_test, y_test) = cifar10.load_data()\n",
        "print(x_train.shape, y_train.shape, x_test.shape, y_test.shape)\n",
        "\n",
        "def preprocess_data(x):\n",
        "    x /= 255\n",
        "    x -= 0.5\n",
        "    x *= 2\n",
        "    return x\n",
        "\n",
        "# 预处理\n",
        "x_train = x_train.astype(np.float32)\n",
        "x_test = x_test.astype(np.float32)\n",
        "\n",
        "x_train = preprocess_data(x_train)\n",
        "x_test = preprocess_data(x_test)\n",
        "\n",
        "# one-hot encoding\n",
        "n_classes = 10\n",
        "y_train = np_utils.to_categorical(y_train, n_classes)\n",
        "y_test = np_utils.to_categorical(y_test, n_classes)\n",
        "\n",
        "# 取 20% 的训练数据\n",
        "x_train_part = x_train[:10000]\n",
        "y_train_part = y_train[:10000]\n",
        "\n",
        "print(x_train_part.shape, y_train_part.shape)\n",
        "\n",
        "# 建立一个简单的卷积神经网络,序贯结构\n",
        "def build_model():\n",
        "    model = Sequential()\n",
        "\n",
        "    model.add(Conv2D(64, (3,3), input_shape=(32,32,3)))\n",
        "    model.add(Activation('relu'))\n",
        "    model.add(BatchNormalization(scale=False, center=False))\n",
        "\n",
        "    model.add(Conv2D(32, (3,3)))\n",
        "    model.add(Activation('relu'))\n",
        "    model.add(MaxPooling2D((2,2)))\n",
        "    model.add(Dropout(0.2))\n",
        "    model.add(BatchNormalization(scale=False, center=False))\n",
        "\n",
        "    model.add(Flatten())\n",
        "    model.add(Dense(256))\n",
        "    model.add(Activation('relu'))\n",
        "    model.add(Dropout(0.2))\n",
        "    model.add(BatchNormalization())\n",
        "\n",
        "    model.add(Dense(n_classes))\n",
        "    model.add(Activation('softmax'))\n",
        "\n",
        "    return model\n",
        "\n",
        "# 训练参数\n",
        "batch_size = 32\n",
        "epochs = 20\n",
        "#epochs = 2\n",
        "#cifar-10 20%数据,训练结果\n",
        "model = build_model()\n",
        "model.compile(optimizer='adam', loss='categorical_crossentropy', metrics=['accuracy'])\n",
        "model.fit(x_train_part, y_train_part, epochs=epochs, batch_size=batch_size, verbose=1, validation_split=0.1)\n",
        "\n",
        "loss, acc = model.evaluate(x_test, y_test, batch_size=batch_size)\n",
        "print('Loss: ', loss)\n",
        "print('Accuracy: ', acc)\n",
        "\n"
      ],
      "execution_count": 6,
      "outputs": [
        {
          "output_type": "stream",
          "text": [
            "(50000, 32, 32, 3) (50000, 1) (10000, 32, 32, 3) (10000, 1)\n",
            "(10000, 32, 32, 3) (10000, 10)\n",
            "Train on 9000 samples, validate on 1000 samples\n",
            "Epoch 1/20\n",
            "9000/9000 [==============================] - 7s 782us/step - loss: 1.7508 - acc: 0.4060 - val_loss: 1.4226 - val_acc: 0.5150\n",
            "Epoch 2/20\n",
            "9000/9000 [==============================] - 6s 703us/step - loss: 1.2423 - acc: 0.5638 - val_loss: 1.2870 - val_acc: 0.5430\n",
            "Epoch 3/20\n",
            "7296/9000 [=======================>......] - ETA: 1s - loss: 0.9765 - acc: 0.6569"
          ],
          "name": "stdout"
        },
        {
          "output_type": "stream",
          "text": [
            "9000/9000 [==============================] - 6s 707us/step - loss: 0.9800 - acc: 0.6544 - val_loss: 1.2424 - val_acc: 0.5710\n",
            "Epoch 4/20\n",
            "9000/9000 [==============================] - 6s 697us/step - loss: 0.7926 - acc: 0.7229 - val_loss: 1.1953 - val_acc: 0.6010\n",
            "Epoch 5/20\n",
            "9000/9000 [==============================] - 6s 701us/step - loss: 0.6394 - acc: 0.7811 - val_loss: 1.1633 - val_acc: 0.6110\n",
            "Epoch 6/20\n",
            "8096/9000 [=========================>....] - ETA: 0s - loss: 0.4840 - acc: 0.8360"
          ],
          "name": "stdout"
        },
        {
          "output_type": "stream",
          "text": [
            "9000/9000 [==============================] - 6s 700us/step - loss: 0.4952 - acc: 0.8321 - val_loss: 1.2417 - val_acc: 0.5980\n",
            "Epoch 7/20\n",
            "9000/9000 [==============================] - 6s 713us/step - loss: 0.4209 - acc: 0.8594 - val_loss: 1.2723 - val_acc: 0.5970\n",
            "Epoch 8/20\n",
            "9000/9000 [==============================] - 6s 705us/step - loss: 0.3349 - acc: 0.8880 - val_loss: 1.2645 - val_acc: 0.6080\n",
            "Epoch 9/20\n",
            "7424/9000 [=======================>......] - ETA: 1s - loss: 0.2829 - acc: 0.9076"
          ],
          "name": "stdout"
        },
        {
          "output_type": "stream",
          "text": [
            "9000/9000 [==============================] - 6s 717us/step - loss: 0.3030 - acc: 0.8999 - val_loss: 1.4063 - val_acc: 0.5950\n",
            "Epoch 10/20\n",
            "9000/9000 [==============================] - 6s 711us/step - loss: 0.2620 - acc: 0.9133 - val_loss: 1.3105 - val_acc: 0.6250\n",
            "Epoch 11/20\n",
            "9000/9000 [==============================] - 6s 701us/step - loss: 0.2150 - acc: 0.9292 - val_loss: 1.3809 - val_acc: 0.6270\n",
            "Epoch 12/20\n",
            "6944/9000 [======================>.......] - ETA: 1s - loss: 0.2082 - acc: 0.9316"
          ],
          "name": "stdout"
        },
        {
          "output_type": "stream",
          "text": [
            "9000/9000 [==============================] - 6s 709us/step - loss: 0.2097 - acc: 0.9309 - val_loss: 1.4083 - val_acc: 0.6030\n",
            "Epoch 13/20\n",
            "9000/9000 [==============================] - 6s 698us/step - loss: 0.1849 - acc: 0.9399 - val_loss: 1.4861 - val_acc: 0.6150\n",
            "Epoch 14/20\n",
            "9000/9000 [==============================] - 6s 696us/step - loss: 0.1626 - acc: 0.9466 - val_loss: 1.4660 - val_acc: 0.6180\n",
            "Epoch 15/20\n",
            "8096/9000 [=========================>....] - ETA: 0s - loss: 0.1671 - acc: 0.9448"
          ],
          "name": "stdout"
        },
        {
          "output_type": "stream",
          "text": [
            "9000/9000 [==============================] - 6s 695us/step - loss: 0.1680 - acc: 0.9439 - val_loss: 1.4347 - val_acc: 0.6200\n",
            "Epoch 16/20\n",
            "9000/9000 [==============================] - 6s 700us/step - loss: 0.1282 - acc: 0.9578 - val_loss: 1.4100 - val_acc: 0.6280\n",
            "Epoch 17/20\n",
            "9000/9000 [==============================] - 6s 698us/step - loss: 0.1473 - acc: 0.9518 - val_loss: 1.5351 - val_acc: 0.6190\n",
            "Epoch 18/20\n",
            "8256/9000 [==========================>...] - ETA: 0s - loss: 0.1340 - acc: 0.9558"
          ],
          "name": "stdout"
        },
        {
          "output_type": "stream",
          "text": [
            "9000/9000 [==============================] - 6s 701us/step - loss: 0.1332 - acc: 0.9561 - val_loss: 1.4971 - val_acc: 0.6160\n",
            "Epoch 19/20\n",
            "9000/9000 [==============================] - 6s 697us/step - loss: 0.1321 - acc: 0.9577 - val_loss: 1.5095 - val_acc: 0.6290\n",
            "Epoch 20/20\n",
            "9000/9000 [==============================] - 6s 700us/step - loss: 0.1295 - acc: 0.9559 - val_loss: 1.6178 - val_acc: 0.6070\n",
            "10000/10000 [==============================] - 2s 213us/step\n",
            "Loss:  1.6764586717605592\n",
            "Accuracy:  0.6179\n"
          ],
          "name": "stdout"
        }
      ]
    },
    {
      "metadata": {
        "id": "v4DZMrYJKp3L",
        "colab_type": "text"
      },
      "cell_type": "markdown",
      "source": [
        "采用文档中提示所谓自动方法"
      ]
    },
    {
      "metadata": {
        "id": "Qrsp4o6YKoPm",
        "colab_type": "code",
        "colab": {
          "base_uri": "https://localhost:8080/",
          "height": 665
        },
        "outputId": "d53fad4d-9559-47ae-a29e-21b52e808ae8"
      },
      "cell_type": "code",
      "source": [
        "#@title 默认标题文本\n",
        "img_generator.fit(x_train_part)\n",
        "\n",
        "# fits the model_2 on batches with real-time data augmentation:\n",
        "model_2.fit_generator(img_generator.flow(x_train_part, y_train_part, batch_size=batch_size),\n",
        "                    steps_per_epoch=len(x_train_part), epochs=epochs)"
      ],
      "execution_count": 0,
      "outputs": [
        {
          "output_type": "stream",
          "text": [
            "Epoch 1/20\n",
            " 2286/10000 [=====>........................] - ETA: 3:56 - loss: 0.7541 - acc: 0.7356"
          ],
          "name": "stdout"
        },
        {
          "output_type": "stream",
          "text": [
            " 5170/10000 [==============>...............] - ETA: 2:27 - loss: 0.7508 - acc: 0.7366"
          ],
          "name": "stdout"
        },
        {
          "output_type": "stream",
          "text": [
            " 7635/10000 [=====================>........] - ETA: 1:12 - loss: 0.7507 - acc: 0.7365"
          ],
          "name": "stdout"
        },
        {
          "output_type": "stream",
          "text": [
            "10000/10000 [==============================] - 305s 31ms/step - loss: 0.7476 - acc: 0.7373\n"
          ],
          "name": "stdout"
        },
        {
          "output_type": "stream",
          "text": [
            "Epoch 2/20\n",
            " 2129/10000 [=====>........................] - ETA: 3:59 - loss: 0.7380 - acc: 0.7403"
          ],
          "name": "stdout"
        },
        {
          "output_type": "stream",
          "text": [
            " 4516/10000 [============>.................] - ETA: 2:46 - loss: 0.7313 - acc: 0.7428"
          ],
          "name": "stdout"
        },
        {
          "output_type": "stream",
          "text": [
            " 8653/10000 [========================>.....] - ETA: 40s - loss: 0.7272 - acc: 0.7439"
          ],
          "name": "stdout"
        },
        {
          "output_type": "stream",
          "text": [
            "10000/10000 [==============================] - 302s 30ms/step - loss: 0.7260 - acc: 0.7446\n",
            "Epoch 3/20\n",
            "  452/10000 [>.............................] - ETA: 4:52 - loss: 0.6991 - acc: 0.7544"
          ],
          "name": "stdout"
        },
        {
          "output_type": "stream",
          "text": [
            " 2989/10000 [=======>......................] - ETA: 3:32 - loss: 0.7079 - acc: 0.7514"
          ],
          "name": "stdout"
        },
        {
          "output_type": "stream",
          "text": [
            " 5338/10000 [===============>..............] - ETA: 2:22 - loss: 0.7077 - acc: 0.7524"
          ],
          "name": "stdout"
        },
        {
          "output_type": "stream",
          "text": [
            " 7825/10000 [======================>.......] - ETA: 1:06 - loss: 0.7059 - acc: 0.7529"
          ],
          "name": "stdout"
        },
        {
          "output_type": "stream",
          "text": [
            "10000/10000 [==============================] - 305s 30ms/step - loss: 0.7039 - acc: 0.7535\n",
            "Epoch 4/20\n",
            "   92/10000 [..............................] - ETA: 4:58 - loss: 0.7012 - acc: 0.7486"
          ],
          "name": "stdout"
        },
        {
          "output_type": "stream",
          "text": [
            " 2998/10000 [=======>......................] - ETA: 3:29 - loss: 0.6913 - acc: 0.7577"
          ],
          "name": "stdout"
        },
        {
          "output_type": "stream",
          "text": [
            " 5637/10000 [===============>..............] - ETA: 2:10 - loss: 0.6896 - acc: 0.7583"
          ],
          "name": "stdout"
        },
        {
          "output_type": "stream",
          "text": [
            " 8065/10000 [=======================>......] - ETA: 58s - loss: 0.6873 - acc: 0.7588"
          ],
          "name": "stdout"
        },
        {
          "output_type": "stream",
          "text": [
            "10000/10000 [==============================] - 301s 30ms/step - loss: 0.6857 - acc: 0.7596\n",
            "Epoch 5/20\n",
            "  200/10000 [..............................] - ETA: 5:02 - loss: 0.6693 - acc: 0.7620"
          ],
          "name": "stdout"
        },
        {
          "output_type": "stream",
          "text": [
            " 2559/10000 [======>.......................] - ETA: 3:47 - loss: 0.6785 - acc: 0.7615"
          ],
          "name": "stdout"
        },
        {
          "output_type": "stream",
          "text": [
            " 5108/10000 [==============>...............] - ETA: 2:29 - loss: 0.6739 - acc: 0.7632"
          ],
          "name": "stdout"
        },
        {
          "output_type": "stream",
          "text": [
            " 7591/10000 [=====================>........] - ETA: 1:13 - loss: 0.6741 - acc: 0.7636"
          ],
          "name": "stdout"
        },
        {
          "output_type": "stream",
          "text": [
            "10000/10000 [==============================] - 306s 31ms/step - loss: 0.6726 - acc: 0.7643\n"
          ],
          "name": "stdout"
        },
        {
          "output_type": "stream",
          "text": [
            "Epoch 6/20\n",
            " 2344/10000 [======>.......................] - ETA: 3:45 - loss: 0.6624 - acc: 0.7673"
          ],
          "name": "stdout"
        },
        {
          "output_type": "stream",
          "text": [
            " 5005/10000 [==============>...............] - ETA: 2:27 - loss: 0.6597 - acc: 0.7684"
          ],
          "name": "stdout"
        },
        {
          "output_type": "stream",
          "text": [
            " 7768/10000 [======================>.......] - ETA: 1:05 - loss: 0.6585 - acc: 0.7686"
          ],
          "name": "stdout"
        },
        {
          "output_type": "stream",
          "text": [
            "10000/10000 [==============================] - 296s 30ms/step - loss: 0.6570 - acc: 0.7690\n",
            "Epoch 7/20\n",
            "   64/10000 [..............................] - ETA: 4:58 - loss: 0.6109 - acc: 0.7822"
          ],
          "name": "stdout"
        },
        {
          "output_type": "stream",
          "text": [
            " 2601/10000 [======>.......................] - ETA: 3:36 - loss: 0.6525 - acc: 0.7726"
          ],
          "name": "stdout"
        },
        {
          "output_type": "stream",
          "text": [
            " 4998/10000 [=============>................] - ETA: 2:26 - loss: 0.6506 - acc: 0.7729"
          ],
          "name": "stdout"
        },
        {
          "output_type": "stream",
          "text": [
            " 7830/10000 [======================>.......] - ETA: 1:03 - loss: 0.6480 - acc: 0.7736"
          ],
          "name": "stdout"
        },
        {
          "output_type": "stream",
          "text": [
            "10000/10000 [==============================] - 293s 29ms/step - loss: 0.6465 - acc: 0.7739\n",
            "Epoch 8/20\n",
            "  110/10000 [..............................] - ETA: 4:47 - loss: 0.6520 - acc: 0.7616"
          ],
          "name": "stdout"
        },
        {
          "output_type": "stream",
          "text": [
            " 2932/10000 [=======>......................] - ETA: 3:25 - loss: 0.6373 - acc: 0.7771"
          ],
          "name": "stdout"
        },
        {
          "output_type": "stream",
          "text": [
            " 6865/10000 [===================>..........] - ETA: 1:31 - loss: 0.6381 - acc: 0.7766"
          ],
          "name": "stdout"
        },
        {
          "output_type": "stream",
          "text": [
            " 9428/10000 [===========================>..] - ETA: 16s - loss: 0.6357 - acc: 0.7774"
          ],
          "name": "stdout"
        },
        {
          "output_type": "stream",
          "text": [
            "10000/10000 [==============================] - 292s 29ms/step - loss: 0.6361 - acc: 0.7772\n",
            "Epoch 9/20\n",
            "  832/10000 [=>............................] - ETA: 4:27 - loss: 0.6294 - acc: 0.7819"
          ],
          "name": "stdout"
        },
        {
          "output_type": "stream",
          "text": [
            " 3456/10000 [=========>....................] - ETA: 3:08 - loss: 0.6272 - acc: 0.7812"
          ],
          "name": "stdout"
        },
        {
          "output_type": "stream",
          "text": [
            " 6038/10000 [=================>............] - ETA: 1:55 - loss: 0.6273 - acc: 0.7808"
          ],
          "name": "stdout"
        },
        {
          "output_type": "stream",
          "text": [
            " 8842/10000 [=========================>....] - ETA: 33s - loss: 0.6270 - acc: 0.7805"
          ],
          "name": "stdout"
        },
        {
          "output_type": "stream",
          "text": [
            "10000/10000 [==============================] - 292s 29ms/step - loss: 0.6268 - acc: 0.7803\n",
            "Epoch 10/20\n",
            "  562/10000 [>.............................] - ETA: 4:39 - loss: 0.6400 - acc: 0.7757"
          ],
          "name": "stdout"
        },
        {
          "output_type": "stream",
          "text": [
            " 3308/10000 [========>.....................] - ETA: 3:17 - loss: 0.6291 - acc: 0.7802"
          ],
          "name": "stdout"
        },
        {
          "output_type": "stream",
          "text": [
            " 5710/10000 [================>.............] - ETA: 2:05 - loss: 0.6246 - acc: 0.7814"
          ],
          "name": "stdout"
        },
        {
          "output_type": "stream",
          "text": [
            " 8440/10000 [========================>.....] - ETA: 45s - loss: 0.6230 - acc: 0.7821"
          ],
          "name": "stdout"
        },
        {
          "output_type": "stream",
          "text": [
            "10000/10000 [==============================] - 291s 29ms/step - loss: 0.6221 - acc: 0.7822\n",
            "Epoch 11/20\n",
            "  390/10000 [>.............................] - ETA: 4:32 - loss: 0.6154 - acc: 0.7843"
          ],
          "name": "stdout"
        },
        {
          "output_type": "stream",
          "text": [
            " 3557/10000 [=========>....................] - ETA: 3:05 - loss: 0.6163 - acc: 0.7835"
          ],
          "name": "stdout"
        },
        {
          "output_type": "stream",
          "text": [
            " 6270/10000 [=================>............] - ETA: 1:49 - loss: 0.6145 - acc: 0.7838"
          ],
          "name": "stdout"
        },
        {
          "output_type": "stream",
          "text": [
            " 8662/10000 [========================>.....] - ETA: 39s - loss: 0.6128 - acc: 0.7846"
          ],
          "name": "stdout"
        },
        {
          "output_type": "stream",
          "text": [
            "10000/10000 [==============================] - 293s 29ms/step - loss: 0.6126 - acc: 0.7848\n",
            "Epoch 12/20\n",
            "  466/10000 [>.............................] - ETA: 4:51 - loss: 0.5992 - acc: 0.7901"
          ],
          "name": "stdout"
        },
        {
          "output_type": "stream",
          "text": [
            " 3091/10000 [========>.....................] - ETA: 3:23 - loss: 0.6063 - acc: 0.7881"
          ],
          "name": "stdout"
        },
        {
          "output_type": "stream",
          "text": [
            " 5820/10000 [================>.............] - ETA: 2:01 - loss: 0.6048 - acc: 0.7881"
          ],
          "name": "stdout"
        },
        {
          "output_type": "stream",
          "text": [
            " 8974/10000 [=========================>....] - ETA: 29s - loss: 0.6049 - acc: 0.7885"
          ],
          "name": "stdout"
        },
        {
          "output_type": "stream",
          "text": [
            "10000/10000 [==============================] - 290s 29ms/step - loss: 0.6057 - acc: 0.7885\n",
            "Epoch 13/20\n",
            "  633/10000 [>.............................] - ETA: 4:26 - loss: 0.5934 - acc: 0.7899"
          ],
          "name": "stdout"
        },
        {
          "output_type": "stream",
          "text": [
            " 3387/10000 [=========>....................] - ETA: 3:11 - loss: 0.5989 - acc: 0.7907"
          ],
          "name": "stdout"
        },
        {
          "output_type": "stream",
          "text": [
            " 6170/10000 [=================>............] - ETA: 1:51 - loss: 0.5982 - acc: 0.7912"
          ],
          "name": "stdout"
        },
        {
          "output_type": "stream",
          "text": [
            " 8908/10000 [=========================>....] - ETA: 31s - loss: 0.5953 - acc: 0.7917"
          ],
          "name": "stdout"
        },
        {
          "output_type": "stream",
          "text": [
            "10000/10000 [==============================] - 292s 29ms/step - loss: 0.5950 - acc: 0.7919\n",
            "Epoch 14/20\n",
            "  594/10000 [>.............................] - ETA: 4:36 - loss: 0.6018 - acc: 0.7879"
          ],
          "name": "stdout"
        },
        {
          "output_type": "stream",
          "text": [
            " 3653/10000 [=========>....................] - ETA: 3:05 - loss: 0.5941 - acc: 0.7914"
          ],
          "name": "stdout"
        },
        {
          "output_type": "stream",
          "text": [
            " 6142/10000 [=================>............] - ETA: 1:52 - loss: 0.5921 - acc: 0.7929"
          ],
          "name": "stdout"
        },
        {
          "output_type": "stream",
          "text": [
            " 8781/10000 [=========================>....] - ETA: 35s - loss: 0.5903 - acc: 0.7932"
          ],
          "name": "stdout"
        },
        {
          "output_type": "stream",
          "text": [
            "10000/10000 [==============================] - 291s 29ms/step - loss: 0.5895 - acc: 0.7936\n",
            "Epoch 15/20\n",
            "  535/10000 [>.............................] - ETA: 4:36 - loss: 0.5898 - acc: 0.7973"
          ],
          "name": "stdout"
        },
        {
          "output_type": "stream",
          "text": [
            " 4130/10000 [===========>..................] - ETA: 2:50 - loss: 0.5875 - acc: 0.7939"
          ],
          "name": "stdout"
        },
        {
          "output_type": "stream",
          "text": [
            " 6582/10000 [==================>...........] - ETA: 1:39 - loss: 0.5857 - acc: 0.7949"
          ],
          "name": "stdout"
        },
        {
          "output_type": "stream",
          "text": [
            " 9333/10000 [==========================>...] - ETA: 19s - loss: 0.5850 - acc: 0.7952"
          ],
          "name": "stdout"
        },
        {
          "output_type": "stream",
          "text": [
            "10000/10000 [==============================] - 290s 29ms/step - loss: 0.5846 - acc: 0.7952\n",
            "Epoch 16/20\n",
            "  772/10000 [=>............................] - ETA: 4:31 - loss: 0.5764 - acc: 0.7979"
          ],
          "name": "stdout"
        },
        {
          "output_type": "stream",
          "text": [
            " 5504/10000 [===============>..............] - ETA: 2:10 - loss: 0.5811 - acc: 0.7967"
          ],
          "name": "stdout"
        },
        {
          "output_type": "stream",
          "text": [
            " 8388/10000 [========================>.....] - ETA: 46s - loss: 0.5792 - acc: 0.7972"
          ],
          "name": "stdout"
        },
        {
          "output_type": "stream",
          "text": [
            "10000/10000 [==============================] - 292s 29ms/step - loss: 0.5790 - acc: 0.7971\n",
            "Epoch 17/20\n",
            "  357/10000 [>.............................] - ETA: 4:41 - loss: 0.5832 - acc: 0.8019"
          ],
          "name": "stdout"
        },
        {
          "output_type": "stream",
          "text": [
            " 3231/10000 [========>.....................] - ETA: 3:19 - loss: 0.5741 - acc: 0.8000"
          ],
          "name": "stdout"
        },
        {
          "output_type": "stream",
          "text": [
            " 5692/10000 [================>.............] - ETA: 2:07 - loss: 0.5766 - acc: 0.7987"
          ],
          "name": "stdout"
        },
        {
          "output_type": "stream",
          "text": [
            " 8316/10000 [=======================>......] - ETA: 49s - loss: 0.5786 - acc: 0.7979"
          ],
          "name": "stdout"
        },
        {
          "output_type": "stream",
          "text": [
            " 9811/10000 [============================>.] - ETA: 5s - loss: 0.5768 - acc: 0.7983"
          ],
          "name": "stdout"
        }
      ]
    }
  ]
}
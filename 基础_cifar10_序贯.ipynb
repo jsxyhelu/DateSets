{
  "nbformat": 4,
  "nbformat_minor": 0,
  "metadata": {
    "colab": {
      "name": "基础_cifar10_序贯.ipynb",
      "version": "0.3.2",
      "provenance": [],
      "collapsed_sections": []
    },
    "kernelspec": {
      "name": "python3",
      "display_name": "Python 3"
    },
    "accelerator": "GPU"
  },
  "cells": [
    {
      "cell_type": "markdown",
      "metadata": {
        "id": "view-in-github",
        "colab_type": "text"
      },
      "source": [
        "[View in Colaboratory](https://colab.research.google.com/github/jsxyhelu/DateSets/blob/master/%E5%9F%BA%E7%A1%80_cifar10_%E5%BA%8F%E8%B4%AF.ipynb)"
      ]
    },
    {
      "metadata": {
        "id": "61c_YbOqZz-V",
        "colab_type": "text"
      },
      "cell_type": "markdown",
      "source": [
        "发现这段官方的代码，给出的就是带argumentation的结果"
      ]
    },
    {
      "metadata": {
        "id": "tY-OlUCpYTUj",
        "colab_type": "code",
        "colab": {
          "base_uri": "https://localhost:8080/",
          "height": 2837
        },
        "outputId": "750de511-8d15-4423-9d57-23bc4ca6708b"
      },
      "cell_type": "code",
      "source": [
        "'''Train a simple deep CNN on the CIFAR10 small images dataset.\n",
        "\n",
        "It gets to 75% validation accuracy in 25 epochs, and 79% after 50 epochs.\n",
        "(it's still underfitting at that point, though).\n",
        "'''\n",
        "\n",
        "from __future__ import print_function\n",
        "!apt-get -qq install -y graphviz && pip install -q pydot\n",
        "import pydot\n",
        "import keras\n",
        "import cv2\n",
        "from keras.datasets import cifar10\n",
        "from keras.preprocessing.image import ImageDataGenerator\n",
        "from keras.models import Sequential\n",
        "from keras.layers import Dense, Dropout, Activation, Flatten\n",
        "from keras.layers import Conv2D, MaxPooling2D\n",
        "from keras.utils.vis_utils import plot_model\n",
        "import matplotlib.image as image # image 用于读取图片\n",
        "import matplotlib.pyplot as plt\n",
        "import os\n",
        "\n",
        "%matplotlib inline\n",
        "%config InlineBackend.figure_format = 'retina'\n",
        "\n",
        "batch_size = 32\n",
        "num_classes = 10\n",
        "epochs = 20\n",
        "#epochs = 3\n",
        "data_augmentation = True\n",
        "num_predictions = 20\n",
        "save_dir = os.path.join(os.getcwd(), 'saved_models')\n",
        "model_name = 'keras_cifar10_trained_model.h5'\n",
        "\n",
        "# The data, split between train and test sets:\n",
        "(x_train, y_train), (x_test, y_test) = cifar10.load_data()\n",
        "print('x_train shape:', x_train.shape)\n",
        "print(x_train.shape[0], 'train samples')\n",
        "print(x_test.shape[0], 'test samples')\n",
        "\n",
        "# Convert class vectors to binary class matrices.\n",
        "y_train = keras.utils.to_categorical(y_train, num_classes)\n",
        "y_test = keras.utils.to_categorical(y_test, num_classes)\n",
        "\n",
        "model = Sequential()\n",
        "model.add(Conv2D(32, (3, 3), padding='same',\n",
        "                 input_shape=x_train.shape[1:]))\n",
        "model.add(Activation('relu'))\n",
        "model.add(Conv2D(32, (3, 3)))\n",
        "model.add(Activation('relu'))\n",
        "model.add(MaxPooling2D(pool_size=(2, 2)))\n",
        "model.add(Dropout(0.25))\n",
        "\n",
        "model.add(Conv2D(64, (3, 3), padding='same'))\n",
        "model.add(Activation('relu'))\n",
        "model.add(Conv2D(64, (3, 3)))\n",
        "model.add(Activation('relu'))\n",
        "model.add(MaxPooling2D(pool_size=(2, 2)))\n",
        "model.add(Dropout(0.25))\n",
        "\n",
        "model.add(Flatten())\n",
        "model.add(Dense(512))\n",
        "model.add(Activation('relu'))\n",
        "model.add(Dropout(0.5))\n",
        "model.add(Dense(num_classes))\n",
        "model.add(Activation('softmax'))\n",
        "\n",
        "model2 = Sequential()\n",
        "model2.add(Conv2D(32, (3, 3), padding='same',\n",
        "                 input_shape=x_train.shape[1:]))\n",
        "model2.add(Activation('relu'))\n",
        "model2.add(Conv2D(32, (3, 3)))\n",
        "model2.add(Activation('relu'))\n",
        "model2.add(MaxPooling2D(pool_size=(2, 2)))\n",
        "model2.add(Dropout(0.25))\n",
        "\n",
        "model2.add(Flatten())\n",
        "model2.add(Dense(512))\n",
        "model2.add(Activation('relu'))\n",
        "model2.add(Dropout(0.5))\n",
        "model2.add(Dense(num_classes))\n",
        "model2.add(Activation('softmax'))\n",
        "\n",
        "#显示模型\n",
        "model.summary()\n",
        "plot_model(model,to_file='model1111.png',show_shapes=True)\n",
        "img = image.imread('model1111.png')\n",
        "print(img.shape)\n",
        "plt.imshow(img) # 显示图片\n",
        "plt.axis('off') # 不显示坐标轴\n",
        "plt.show()\n",
        "\n",
        "# initiate RMSprop optimizer\n",
        "opt = keras.optimizers.rmsprop(lr=0.0001, decay=1e-6)\n",
        "\n",
        "# Let's train the model using RMSprop\n",
        "model.compile(loss='categorical_crossentropy',\n",
        "              optimizer=opt,\n",
        "              metrics=['accuracy'])\n",
        "\n",
        "model2.compile(loss='categorical_crossentropy',\n",
        "              optimizer=opt,\n",
        "              metrics=['accuracy'])\n",
        "\n",
        "x_train = x_train.astype('float32')\n",
        "x_test = x_test.astype('float32')\n",
        "x_train /= 255\n",
        "x_test /= 255\n",
        "\n",
        "if not data_augmentation:\n",
        "    print('Not using data augmentation.')\n",
        "    model.fit(x_train, y_train,\n",
        "              batch_size=batch_size,\n",
        "              epochs=epochs,\n",
        "              validation_data=(x_test, y_test),\n",
        "              shuffle=True)\n",
        "else:\n",
        "    #使用了数据自动增长\n",
        "    print('Using real-time data augmentation.')\n",
        "    # This will do preprocessing and realtime data augmentation:\n",
        "    datagen = ImageDataGenerator(\n",
        "        featurewise_center=False,  # set input mean to 0 over the dataset\n",
        "        samplewise_center=False,  # set each sample mean to 0\n",
        "        featurewise_std_normalization=False,  # divide inputs by std of the dataset\n",
        "        samplewise_std_normalization=False,  # divide each input by its std\n",
        "        zca_whitening=False,  # apply ZCA whitening\n",
        "        rotation_range=0,  # randomly rotate images in the range (degrees, 0 to 180)\n",
        "        width_shift_range=0.1,  # randomly shift images horizontally (fraction of total width)\n",
        "        height_shift_range=0.1,  # randomly shift images vertically (fraction of total height)\n",
        "        horizontal_flip=True,  # randomly flip images\n",
        "        vertical_flip=False)  # randomly flip images\n",
        "\n",
        "    # Compute quantities required for feature-wise normalization\n",
        "    # (std, mean, and principal components if ZCA whitening is applied).\n",
        "    datagen.fit(x_train)\n",
        "\n",
        "    # Fit the model on the batches generated by datagen.flow().\n",
        "    model.fit_generator(datagen.flow(x_train, y_train,\n",
        "                                     batch_size=batch_size),\n",
        "                        epochs=epochs,\n",
        "                        validation_data=(x_test, y_test),\n",
        "                        workers=4)\n",
        "    \n",
        "    model2.fit_generator(datagen.flow(x_train, y_train,\n",
        "                                     batch_size=batch_size),\n",
        "                        epochs=epochs,\n",
        "                        validation_data=(x_test, y_test),\n",
        "                        workers=4)\n",
        "\n",
        "# Save model and weights\n",
        "if not os.path.isdir(save_dir):\n",
        "    os.makedirs(save_dir)\n",
        "model_path = os.path.join(save_dir, model_name)\n",
        "model.save(model_path)\n",
        "print('Saved trained model at %s ' % model_path)\n",
        "\n",
        "# Score trained model.\n",
        "scores = model.evaluate(x_test, y_test, verbose=1)\n",
        "print('Test loss:', scores[0])\n",
        "print('Test accuracy:', scores[1])\n",
        "\n",
        "scores = model2.evaluate(x_test, y_test, verbose=1)\n",
        "print('Test loss2:', scores[0])\n",
        "print('Test accuracy2:', scores[1])"
      ],
      "execution_count": 1,
      "outputs": [
        {
          "output_type": "stream",
          "text": [
            "Using TensorFlow backend.\n"
          ],
          "name": "stderr"
        },
        {
          "output_type": "stream",
          "text": [
            "x_train shape: (50000, 32, 32, 3)\n",
            "50000 train samples\n",
            "10000 test samples\n",
            "_________________________________________________________________\n",
            "Layer (type)                 Output Shape              Param #   \n",
            "=================================================================\n",
            "conv2d_1 (Conv2D)            (None, 32, 32, 32)        896       \n",
            "_________________________________________________________________\n",
            "activation_1 (Activation)    (None, 32, 32, 32)        0         \n",
            "_________________________________________________________________\n",
            "conv2d_2 (Conv2D)            (None, 30, 30, 32)        9248      \n",
            "_________________________________________________________________\n",
            "activation_2 (Activation)    (None, 30, 30, 32)        0         \n",
            "_________________________________________________________________\n",
            "max_pooling2d_1 (MaxPooling2 (None, 15, 15, 32)        0         \n",
            "_________________________________________________________________\n",
            "dropout_1 (Dropout)          (None, 15, 15, 32)        0         \n",
            "_________________________________________________________________\n",
            "conv2d_3 (Conv2D)            (None, 15, 15, 64)        18496     \n",
            "_________________________________________________________________\n",
            "activation_3 (Activation)    (None, 15, 15, 64)        0         \n",
            "_________________________________________________________________\n",
            "conv2d_4 (Conv2D)            (None, 13, 13, 64)        36928     \n",
            "_________________________________________________________________\n",
            "activation_4 (Activation)    (None, 13, 13, 64)        0         \n",
            "_________________________________________________________________\n",
            "max_pooling2d_2 (MaxPooling2 (None, 6, 6, 64)          0         \n",
            "_________________________________________________________________\n",
            "dropout_2 (Dropout)          (None, 6, 6, 64)          0         \n",
            "_________________________________________________________________\n",
            "flatten_1 (Flatten)          (None, 2304)              0         \n",
            "_________________________________________________________________\n",
            "dense_1 (Dense)              (None, 512)               1180160   \n",
            "_________________________________________________________________\n",
            "activation_5 (Activation)    (None, 512)               0         \n",
            "_________________________________________________________________\n",
            "dropout_3 (Dropout)          (None, 512)               0         \n",
            "_________________________________________________________________\n",
            "dense_2 (Dense)              (None, 10)                5130      \n",
            "_________________________________________________________________\n",
            "activation_6 (Activation)    (None, 10)                0         \n",
            "=================================================================\n",
            "Total params: 1,250,858\n",
            "Trainable params: 1,250,858\n",
            "Non-trainable params: 0\n",
            "_________________________________________________________________\n",
            "(2065, 635, 4)\n"
          ],
          "name": "stdout"
        },
        {
          "output_type": "display_data",
          "data": {
            "image/png": "[encoded data removed]",
            "text/plain": [
              "<matplotlib.figure.Figure at 0x7fa44253da20>"
            ]
          },
          "metadata": {
            "tags": [],
            "image/png": {
              "width": 110,
              "height": 252
            }
          }
        },
        {
          "output_type": "stream",
          "text": [
            "Using real-time data augmentation.\n",
            "WARNING:tensorflow:Variable *= will be deprecated. Use variable.assign_mul if you want assignment to the variable value or 'x = x * y' if you want a new python Tensor object.\n",
            "Epoch 1/20\n",
            " 677/1563 [===========>..................] - ETA: 28s - loss: 2.0170 - acc: 0.2465"
          ],
          "name": "stdout"
        },
        {
          "output_type": "stream",
          "text": [
            "1563/1563 [==============================] - 49s 32ms/step - loss: 1.8591 - acc: 0.3119 - val_loss: 1.5783 - val_acc: 0.4260\n",
            "Epoch 2/20\n",
            " 618/1563 [==========>...................] - ETA: 27s - loss: 1.6249 - acc: 0.3997"
          ],
          "name": "stdout"
        },
        {
          "output_type": "stream",
          "text": [
            "1563/1563 [==============================] - 48s 31ms/step - loss: 1.5880 - acc: 0.4165 - val_loss: 1.3933 - val_acc: 0.4920\n",
            "Epoch 3/20\n",
            " 588/1563 [==========>...................] - ETA: 28s - loss: 1.4932 - acc: 0.4551"
          ],
          "name": "stdout"
        },
        {
          "output_type": "stream",
          "text": [
            "1563/1563 [==============================] - 48s 30ms/step - loss: 1.4702 - acc: 0.4662 - val_loss: 1.3209 - val_acc: 0.5227\n",
            "Epoch 4/20\n",
            " 589/1563 [==========>...................] - ETA: 28s - loss: 1.4244 - acc: 0.4877"
          ],
          "name": "stdout"
        },
        {
          "output_type": "stream",
          "text": [
            "1563/1563 [==============================] - 48s 30ms/step - loss: 1.3970 - acc: 0.4987 - val_loss: 1.2169 - val_acc: 0.5642\n",
            "Epoch 5/20\n",
            " 587/1563 [==========>...................] - ETA: 28s - loss: 1.3525 - acc: 0.5144"
          ],
          "name": "stdout"
        },
        {
          "output_type": "stream",
          "text": [
            "1563/1563 [==============================] - 48s 31ms/step - loss: 1.3308 - acc: 0.5239 - val_loss: 1.2906 - val_acc: 0.5430\n",
            "Epoch 6/20\n",
            " 575/1563 [==========>...................] - ETA: 28s - loss: 1.2907 - acc: 0.5421"
          ],
          "name": "stdout"
        },
        {
          "output_type": "stream",
          "text": [
            "1563/1563 [==============================] - 47s 30ms/step - loss: 1.2737 - acc: 0.5474 - val_loss: 1.1951 - val_acc: 0.5746\n",
            "Epoch 7/20\n",
            " 575/1563 [==========>...................] - ETA: 28s - loss: 1.2457 - acc: 0.5590"
          ],
          "name": "stdout"
        },
        {
          "output_type": "stream",
          "text": [
            "1563/1563 [==============================] - 47s 30ms/step - loss: 1.2225 - acc: 0.5647 - val_loss: 1.1014 - val_acc: 0.6100\n",
            "Epoch 8/20\n",
            " 561/1563 [=========>....................] - ETA: 29s - loss: 1.1863 - acc: 0.5789"
          ],
          "name": "stdout"
        },
        {
          "output_type": "stream",
          "text": [
            "1563/1563 [==============================] - 48s 31ms/step - loss: 1.1747 - acc: 0.5842 - val_loss: 1.0937 - val_acc: 0.6221\n",
            "Epoch 9/20\n",
            " 541/1563 [=========>....................] - ETA: 29s - loss: 1.1461 - acc: 0.5978"
          ],
          "name": "stdout"
        },
        {
          "output_type": "stream",
          "text": [
            "1563/1563 [==============================] - 48s 30ms/step - loss: 1.1385 - acc: 0.5989 - val_loss: 0.9735 - val_acc: 0.6573\n",
            "Epoch 10/20\n",
            " 546/1563 [=========>....................] - ETA: 29s - loss: 1.1050 - acc: 0.6069"
          ],
          "name": "stdout"
        },
        {
          "output_type": "stream",
          "text": [
            "1563/1563 [==============================] - 48s 31ms/step - loss: 1.0972 - acc: 0.6105 - val_loss: 0.9898 - val_acc: 0.6531\n",
            "Epoch 11/20\n",
            " 546/1563 [=========>....................] - ETA: 29s - loss: 1.0874 - acc: 0.6154"
          ],
          "name": "stdout"
        },
        {
          "output_type": "stream",
          "text": [
            "1563/1563 [==============================] - 48s 31ms/step - loss: 1.0659 - acc: 0.6238 - val_loss: 0.9277 - val_acc: 0.6779\n",
            "Epoch 12/20\n",
            " 571/1563 [=========>....................] - ETA: 28s - loss: 1.0403 - acc: 0.6364"
          ],
          "name": "stdout"
        },
        {
          "output_type": "stream",
          "text": [
            "1563/1563 [==============================] - 47s 30ms/step - loss: 1.0328 - acc: 0.6374 - val_loss: 0.9603 - val_acc: 0.6635\n",
            "Epoch 13/20\n",
            " 582/1563 [==========>...................] - ETA: 28s - loss: 1.0142 - acc: 0.6440"
          ],
          "name": "stdout"
        },
        {
          "output_type": "stream",
          "text": [
            "1563/1563 [==============================] - 47s 30ms/step - loss: 1.0065 - acc: 0.6475 - val_loss: 0.9076 - val_acc: 0.6865\n",
            "Epoch 14/20\n",
            " 570/1563 [=========>....................] - ETA: 28s - loss: 0.9989 - acc: 0.6495"
          ],
          "name": "stdout"
        },
        {
          "output_type": "stream",
          "text": [
            "1563/1563 [==============================] - 47s 30ms/step - loss: 0.9886 - acc: 0.6518 - val_loss: 0.8825 - val_acc: 0.6907\n",
            "Epoch 15/20\n",
            " 564/1563 [=========>....................] - ETA: 28s - loss: 0.9725 - acc: 0.6620"
          ],
          "name": "stdout"
        },
        {
          "output_type": "stream",
          "text": [
            "1563/1563 [==============================] - 47s 30ms/step - loss: 0.9696 - acc: 0.6620 - val_loss: 0.8492 - val_acc: 0.7021\n",
            "Epoch 16/20\n",
            " 577/1563 [==========>...................] - ETA: 28s - loss: 0.9509 - acc: 0.6681"
          ],
          "name": "stdout"
        },
        {
          "output_type": "stream",
          "text": [
            "1563/1563 [==============================] - 47s 30ms/step - loss: 0.9497 - acc: 0.6681 - val_loss: 0.8404 - val_acc: 0.7059\n",
            "Epoch 17/20\n",
            " 582/1563 [==========>...................] - ETA: 28s - loss: 0.9448 - acc: 0.6684"
          ],
          "name": "stdout"
        },
        {
          "output_type": "stream",
          "text": [
            "1563/1563 [==============================] - 48s 31ms/step - loss: 0.9377 - acc: 0.6732 - val_loss: 0.8193 - val_acc: 0.7157\n",
            "Epoch 18/20\n",
            " 561/1563 [=========>....................] - ETA: 29s - loss: 0.9322 - acc: 0.6825"
          ],
          "name": "stdout"
        },
        {
          "output_type": "stream",
          "text": [
            "1563/1563 [==============================] - 48s 31ms/step - loss: 0.9293 - acc: 0.6760 - val_loss: 0.8297 - val_acc: 0.7107\n",
            "Epoch 19/20\n",
            " 563/1563 [=========>....................] - ETA: 29s - loss: 0.9261 - acc: 0.6726"
          ],
          "name": "stdout"
        },
        {
          "output_type": "stream",
          "text": [
            "1563/1563 [==============================] - 47s 30ms/step - loss: 0.9141 - acc: 0.6803 - val_loss: 0.7868 - val_acc: 0.7225\n",
            "Epoch 20/20\n",
            " 551/1563 [=========>....................] - ETA: 29s - loss: 0.9037 - acc: 0.6839"
          ],
          "name": "stdout"
        },
        {
          "output_type": "stream",
          "text": [
            "1563/1563 [==============================] - 48s 31ms/step - loss: 0.8989 - acc: 0.6858 - val_loss: 0.8056 - val_acc: 0.7182\n",
            "Epoch 1/20\n",
            " 601/1563 [==========>...................] - ETA: 27s - loss: 1.9320 - acc: 0.3006"
          ],
          "name": "stdout"
        },
        {
          "output_type": "stream",
          "text": [
            "1563/1563 [==============================] - 46s 30ms/step - loss: 1.7649 - acc: 0.3643 - val_loss: 1.4989 - val_acc: 0.4700\n",
            "Epoch 2/20\n",
            " 632/1563 [===========>..................] - ETA: 26s - loss: 1.5337 - acc: 0.4449"
          ],
          "name": "stdout"
        },
        {
          "output_type": "stream",
          "text": [
            "1563/1563 [==============================] - 46s 29ms/step - loss: 1.4957 - acc: 0.4618 - val_loss: 1.3010 - val_acc: 0.5385\n",
            "Epoch 3/20\n",
            " 644/1563 [===========>..................] - ETA: 26s - loss: 1.4090 - acc: 0.4956"
          ],
          "name": "stdout"
        },
        {
          "output_type": "stream",
          "text": [
            "1563/1563 [==============================] - 46s 30ms/step - loss: 1.3996 - acc: 0.4994 - val_loss: 1.2777 - val_acc: 0.5491\n",
            "Epoch 4/20\n",
            " 664/1563 [===========>..................] - ETA: 25s - loss: 1.3467 - acc: 0.5188"
          ],
          "name": "stdout"
        },
        {
          "output_type": "stream",
          "text": [
            "1563/1563 [==============================] - 46s 29ms/step - loss: 1.3301 - acc: 0.5272 - val_loss: 1.1777 - val_acc: 0.5796\n",
            "Epoch 5/20\n",
            " 665/1563 [===========>..................] - ETA: 25s - loss: 1.2859 - acc: 0.5452"
          ],
          "name": "stdout"
        },
        {
          "output_type": "stream",
          "text": [
            "1563/1563 [==============================] - 46s 29ms/step - loss: 1.2749 - acc: 0.5471 - val_loss: 1.1644 - val_acc: 0.5938\n",
            "Epoch 6/20\n",
            " 644/1563 [===========>..................] - ETA: 26s - loss: 1.2507 - acc: 0.5584"
          ],
          "name": "stdout"
        },
        {
          "output_type": "stream",
          "text": [
            "1563/1563 [==============================] - 46s 30ms/step - loss: 1.2309 - acc: 0.5645 - val_loss: 1.0703 - val_acc: 0.6215\n",
            "Epoch 7/20\n",
            " 669/1563 [===========>..................] - ETA: 25s - loss: 1.1986 - acc: 0.5752"
          ],
          "name": "stdout"
        },
        {
          "output_type": "stream",
          "text": [
            "1563/1563 [==============================] - 46s 29ms/step - loss: 1.1914 - acc: 0.5798 - val_loss: 1.0445 - val_acc: 0.6329\n",
            "Epoch 8/20\n",
            " 655/1563 [===========>..................] - ETA: 25s - loss: 1.1819 - acc: 0.5835"
          ],
          "name": "stdout"
        },
        {
          "output_type": "stream",
          "text": [
            "1563/1563 [==============================] - 46s 30ms/step - loss: 1.1657 - acc: 0.5898 - val_loss: 1.0435 - val_acc: 0.6323\n",
            "Epoch 9/20\n",
            " 659/1563 [===========>..................] - ETA: 25s - loss: 1.1396 - acc: 0.5991"
          ],
          "name": "stdout"
        },
        {
          "output_type": "stream",
          "text": [
            "1563/1563 [==============================] - 46s 30ms/step - loss: 1.1377 - acc: 0.6001 - val_loss: 1.0198 - val_acc: 0.6439\n",
            "Epoch 10/20\n",
            " 656/1563 [===========>..................] - ETA: 25s - loss: 1.1185 - acc: 0.6046"
          ],
          "name": "stdout"
        },
        {
          "output_type": "stream",
          "text": [
            "1563/1563 [==============================] - 46s 29ms/step - loss: 1.1169 - acc: 0.6068 - val_loss: 0.9838 - val_acc: 0.6573\n",
            "Epoch 11/20\n",
            " 660/1563 [===========>..................] - ETA: 25s - loss: 1.1065 - acc: 0.6111"
          ],
          "name": "stdout"
        },
        {
          "output_type": "stream",
          "text": [
            "1563/1563 [==============================] - 46s 29ms/step - loss: 1.1019 - acc: 0.6116 - val_loss: 1.0016 - val_acc: 0.6524\n",
            "Epoch 12/20\n",
            " 658/1563 [===========>..................] - ETA: 25s - loss: 1.0837 - acc: 0.6171"
          ],
          "name": "stdout"
        },
        {
          "output_type": "stream",
          "text": [
            "1563/1563 [==============================] - 46s 29ms/step - loss: 1.0834 - acc: 0.6207 - val_loss: 0.9817 - val_acc: 0.6568\n",
            "Epoch 13/20\n",
            " 650/1563 [===========>..................] - ETA: 26s - loss: 1.0719 - acc: 0.6249"
          ],
          "name": "stdout"
        },
        {
          "output_type": "stream",
          "text": [
            "1563/1563 [==============================] - 46s 30ms/step - loss: 1.0747 - acc: 0.6227 - val_loss: 0.9346 - val_acc: 0.6773\n",
            "Epoch 14/20\n",
            " 654/1563 [===========>..................] - ETA: 26s - loss: 1.0620 - acc: 0.6275"
          ],
          "name": "stdout"
        },
        {
          "output_type": "stream",
          "text": [
            "1563/1563 [==============================] - 46s 30ms/step - loss: 1.0579 - acc: 0.6290 - val_loss: 0.9292 - val_acc: 0.6794\n",
            "Epoch 15/20\n",
            " 668/1563 [===========>..................] - ETA: 25s - loss: 1.0484 - acc: 0.6312"
          ],
          "name": "stdout"
        },
        {
          "output_type": "stream",
          "text": [
            "1563/1563 [==============================] - 46s 30ms/step - loss: 1.0515 - acc: 0.6312 - val_loss: 0.9224 - val_acc: 0.6819\n",
            "Epoch 16/20\n",
            " 645/1563 [===========>..................] - ETA: 26s - loss: 1.0344 - acc: 0.6384\b\b\b\b\b\b\b\b\b\b\b\b\b\b\b\b\b\b\b\b\b\b\b\b\b\b\b\b\b\b\b\b\b\b\b\b\b\b\b\b\b\b\b\b\b\b\b\b\b\b\b\b\b\b\b\b\b\b\b\b\b\b\b\b\b\b\b\b\b\b\b\b\b\b\b\b\b\b\b\b\b\b"
          ],
          "name": "stdout"
        },
        {
          "output_type": "stream",
          "text": [
            "1563/1563 [==============================] - 47s 30ms/step - loss: 1.0424 - acc: 0.6355 - val_loss: 0.9474 - val_acc: 0.6782\n",
            "Epoch 17/20\n",
            " 663/1563 [===========>..................] - ETA: 25s - loss: 1.0304 - acc: 0.6424"
          ],
          "name": "stdout"
        },
        {
          "output_type": "stream",
          "text": [
            "1563/1563 [==============================] - 47s 30ms/step - loss: 1.0324 - acc: 0.6407 - val_loss: 0.9347 - val_acc: 0.6794\n",
            "Epoch 18/20\n",
            " 615/1563 [==========>...................] - ETA: 27s - loss: 1.0288 - acc: 0.6397"
          ],
          "name": "stdout"
        },
        {
          "output_type": "stream",
          "text": [
            "1563/1563 [==============================] - 47s 30ms/step - loss: 1.0327 - acc: 0.6401 - val_loss: 0.9247 - val_acc: 0.6875\n",
            "Epoch 19/20\n",
            " 639/1563 [===========>..................] - ETA: 26s - loss: 1.0306 - acc: 0.6431"
          ],
          "name": "stdout"
        },
        {
          "output_type": "stream",
          "text": [
            "1563/1563 [==============================] - 47s 30ms/step - loss: 1.0296 - acc: 0.6439 - val_loss: 0.9020 - val_acc: 0.6918\n",
            "Epoch 20/20\n",
            " 619/1563 [==========>...................] - ETA: 27s - loss: 1.0237 - acc: 0.6454"
          ],
          "name": "stdout"
        },
        {
          "output_type": "stream",
          "text": [
            "1563/1563 [==============================] - 46s 30ms/step - loss: 1.0215 - acc: 0.6452 - val_loss: 0.9484 - val_acc: 0.6764\n",
            "Saved trained model at /content/saved_models/keras_cifar10_trained_model.h5 \n",
            "10000/10000 [==============================] - 2s 181us/step\n",
            "Test loss: 0.8056231224060059\n",
            "Test accuracy: 0.7182\n",
            "10000/10000 [==============================] - 2s 161us/step\n",
            "Test loss2: 0.9484411451339722\n",
            "Test accuracy2: 0.6764\n"
          ],
          "name": "stdout"
        }
      ]
    },
    {
      "metadata": {
        "id": "kdJxttjNcqZk",
        "colab_type": "code",
        "colab": {}
      },
      "cell_type": "code",
      "source": [
        ""
      ],
      "execution_count": 0,
      "outputs": []
    }
  ]
}